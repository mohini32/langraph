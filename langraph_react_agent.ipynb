{
 "cells": [
  {
   "cell_type": "code",
   "execution_count": 132,
   "id": "519ecda4",
   "metadata": {},
   "outputs": [
    {
     "name": "stdout",
     "output_type": "stream",
     "text": [
      "Requirement already satisfied: langgraph in d:\\mohini\\projects\\langraph\\env\\lib\\site-packages (0.6.6)\n",
      "Requirement already satisfied: langchain in d:\\mohini\\projects\\langraph\\env\\lib\\site-packages (0.3.27)\n",
      "Requirement already satisfied: langchain-core in d:\\mohini\\projects\\langraph\\env\\lib\\site-packages (0.3.75)\n",
      "Requirement already satisfied: langchain-community in d:\\mohini\\projects\\langraph\\env\\lib\\site-packages (0.3.29)\n",
      "Requirement already satisfied: duckduckgo-search in d:\\mohini\\projects\\langraph\\env\\lib\\site-packages (8.1.1)\n",
      "Requirement already satisfied: ipython in d:\\mohini\\projects\\langraph\\env\\lib\\site-packages (9.5.0)\n",
      "Requirement already satisfied: jupyter in d:\\mohini\\projects\\langraph\\env\\lib\\site-packages (1.1.1)\n",
      "Requirement already satisfied: typing-extensions in d:\\mohini\\projects\\langraph\\env\\lib\\site-packages (4.15.0)\n",
      "Requirement already satisfied: langgraph-checkpoint<3.0.0,>=2.1.0 in d:\\mohini\\projects\\langraph\\env\\lib\\site-packages (from langgraph) (2.1.1)\n",
      "Requirement already satisfied: langgraph-prebuilt<0.7.0,>=0.6.0 in d:\\mohini\\projects\\langraph\\env\\lib\\site-packages (from langgraph) (0.6.4)\n",
      "Requirement already satisfied: langgraph-sdk<0.3.0,>=0.2.2 in d:\\mohini\\projects\\langraph\\env\\lib\\site-packages (from langgraph) (0.2.6)\n",
      "Requirement already satisfied: pydantic>=2.7.4 in d:\\mohini\\projects\\langraph\\env\\lib\\site-packages (from langgraph) (2.11.7)\n",
      "Requirement already satisfied: xxhash>=3.5.0 in d:\\mohini\\projects\\langraph\\env\\lib\\site-packages (from langgraph) (3.5.0)\n",
      "Requirement already satisfied: langchain-text-splitters<1.0.0,>=0.3.9 in d:\\mohini\\projects\\langraph\\env\\lib\\site-packages (from langchain) (0.3.11)\n",
      "Requirement already satisfied: langsmith>=0.1.17 in d:\\mohini\\projects\\langraph\\env\\lib\\site-packages (from langchain) (0.4.25)\n",
      "Requirement already satisfied: SQLAlchemy<3,>=1.4 in d:\\mohini\\projects\\langraph\\env\\lib\\site-packages (from langchain) (2.0.43)\n",
      "Requirement already satisfied: requests<3,>=2 in d:\\mohini\\projects\\langraph\\env\\lib\\site-packages (from langchain) (2.32.5)\n",
      "Requirement already satisfied: PyYAML>=5.3 in d:\\mohini\\projects\\langraph\\env\\lib\\site-packages (from langchain) (6.0.2)\n",
      "Requirement already satisfied: tenacity!=8.4.0,<10.0.0,>=8.1.0 in d:\\mohini\\projects\\langraph\\env\\lib\\site-packages (from langchain-core) (9.1.2)\n",
      "Requirement already satisfied: jsonpatch<2.0,>=1.33 in d:\\mohini\\projects\\langraph\\env\\lib\\site-packages (from langchain-core) (1.33)\n",
      "Requirement already satisfied: packaging>=23.2 in d:\\mohini\\projects\\langraph\\env\\lib\\site-packages (from langchain-core) (25.0)\n",
      "Requirement already satisfied: aiohttp<4.0.0,>=3.8.3 in d:\\mohini\\projects\\langraph\\env\\lib\\site-packages (from langchain-community) (3.12.15)\n",
      "Requirement already satisfied: dataclasses-json<0.7,>=0.6.7 in d:\\mohini\\projects\\langraph\\env\\lib\\site-packages (from langchain-community) (0.6.7)\n",
      "Requirement already satisfied: pydantic-settings<3.0.0,>=2.10.1 in d:\\mohini\\projects\\langraph\\env\\lib\\site-packages (from langchain-community) (2.10.1)\n",
      "Requirement already satisfied: httpx-sse<1.0.0,>=0.4.0 in d:\\mohini\\projects\\langraph\\env\\lib\\site-packages (from langchain-community) (0.4.1)\n",
      "Requirement already satisfied: numpy>=1.26.2 in d:\\mohini\\projects\\langraph\\env\\lib\\site-packages (from langchain-community) (2.3.2)\n",
      "Requirement already satisfied: click>=8.1.8 in d:\\mohini\\projects\\langraph\\env\\lib\\site-packages (from duckduckgo-search) (8.2.1)\n",
      "Requirement already satisfied: primp>=0.15.0 in d:\\mohini\\projects\\langraph\\env\\lib\\site-packages (from duckduckgo-search) (0.15.0)\n",
      "Requirement already satisfied: lxml>=5.3.0 in d:\\mohini\\projects\\langraph\\env\\lib\\site-packages (from duckduckgo-search) (6.0.1)\n",
      "Requirement already satisfied: colorama in d:\\mohini\\projects\\langraph\\env\\lib\\site-packages (from ipython) (0.4.6)\n",
      "Requirement already satisfied: decorator in d:\\mohini\\projects\\langraph\\env\\lib\\site-packages (from ipython) (5.2.1)\n",
      "Requirement already satisfied: ipython-pygments-lexers in d:\\mohini\\projects\\langraph\\env\\lib\\site-packages (from ipython) (1.1.1)\n",
      "Requirement already satisfied: jedi>=0.16 in d:\\mohini\\projects\\langraph\\env\\lib\\site-packages (from ipython) (0.19.2)\n",
      "Requirement already satisfied: matplotlib-inline in d:\\mohini\\projects\\langraph\\env\\lib\\site-packages (from ipython) (0.1.7)\n",
      "Requirement already satisfied: prompt_toolkit<3.1.0,>=3.0.41 in d:\\mohini\\projects\\langraph\\env\\lib\\site-packages (from ipython) (3.0.52)\n",
      "Requirement already satisfied: pygments>=2.4.0 in d:\\mohini\\projects\\langraph\\env\\lib\\site-packages (from ipython) (2.19.2)\n",
      "Requirement already satisfied: stack_data in d:\\mohini\\projects\\langraph\\env\\lib\\site-packages (from ipython) (0.6.3)\n",
      "Requirement already satisfied: traitlets>=5.13.0 in d:\\mohini\\projects\\langraph\\env\\lib\\site-packages (from ipython) (5.14.3)\n",
      "Requirement already satisfied: notebook in d:\\mohini\\projects\\langraph\\env\\lib\\site-packages (from jupyter) (7.4.5)\n",
      "Requirement already satisfied: jupyter-console in d:\\mohini\\projects\\langraph\\env\\lib\\site-packages (from jupyter) (6.6.3)\n",
      "Requirement already satisfied: nbconvert in d:\\mohini\\projects\\langraph\\env\\lib\\site-packages (from jupyter) (7.16.6)\n",
      "Requirement already satisfied: ipykernel in d:\\mohini\\projects\\langraph\\env\\lib\\site-packages (from jupyter) (6.30.1)\n",
      "Requirement already satisfied: ipywidgets in d:\\mohini\\projects\\langraph\\env\\lib\\site-packages (from jupyter) (8.1.7)\n",
      "Requirement already satisfied: jupyterlab in d:\\mohini\\projects\\langraph\\env\\lib\\site-packages (from jupyter) (4.4.7)\n",
      "Requirement already satisfied: aiohappyeyeballs>=2.5.0 in d:\\mohini\\projects\\langraph\\env\\lib\\site-packages (from aiohttp<4.0.0,>=3.8.3->langchain-community) (2.6.1)\n",
      "Requirement already satisfied: aiosignal>=1.4.0 in d:\\mohini\\projects\\langraph\\env\\lib\\site-packages (from aiohttp<4.0.0,>=3.8.3->langchain-community) (1.4.0)\n",
      "Requirement already satisfied: attrs>=17.3.0 in d:\\mohini\\projects\\langraph\\env\\lib\\site-packages (from aiohttp<4.0.0,>=3.8.3->langchain-community) (25.3.0)\n",
      "Requirement already satisfied: frozenlist>=1.1.1 in d:\\mohini\\projects\\langraph\\env\\lib\\site-packages (from aiohttp<4.0.0,>=3.8.3->langchain-community) (1.7.0)\n",
      "Requirement already satisfied: multidict<7.0,>=4.5 in d:\\mohini\\projects\\langraph\\env\\lib\\site-packages (from aiohttp<4.0.0,>=3.8.3->langchain-community) (6.6.4)\n",
      "Requirement already satisfied: propcache>=0.2.0 in d:\\mohini\\projects\\langraph\\env\\lib\\site-packages (from aiohttp<4.0.0,>=3.8.3->langchain-community) (0.3.2)\n",
      "Requirement already satisfied: yarl<2.0,>=1.17.0 in d:\\mohini\\projects\\langraph\\env\\lib\\site-packages (from aiohttp<4.0.0,>=3.8.3->langchain-community) (1.20.1)\n",
      "Requirement already satisfied: marshmallow<4.0.0,>=3.18.0 in d:\\mohini\\projects\\langraph\\env\\lib\\site-packages (from dataclasses-json<0.7,>=0.6.7->langchain-community) (3.26.1)\n",
      "Requirement already satisfied: typing-inspect<1,>=0.4.0 in d:\\mohini\\projects\\langraph\\env\\lib\\site-packages (from dataclasses-json<0.7,>=0.6.7->langchain-community) (0.9.0)\n",
      "Requirement already satisfied: parso<0.9.0,>=0.8.4 in d:\\mohini\\projects\\langraph\\env\\lib\\site-packages (from jedi>=0.16->ipython) (0.8.5)\n",
      "Requirement already satisfied: jsonpointer>=1.9 in d:\\mohini\\projects\\langraph\\env\\lib\\site-packages (from jsonpatch<2.0,>=1.33->langchain-core) (3.0.0)\n",
      "Requirement already satisfied: ormsgpack>=1.10.0 in d:\\mohini\\projects\\langraph\\env\\lib\\site-packages (from langgraph-checkpoint<3.0.0,>=2.1.0->langgraph) (1.10.0)\n",
      "Requirement already satisfied: httpx>=0.25.2 in d:\\mohini\\projects\\langraph\\env\\lib\\site-packages (from langgraph-sdk<0.3.0,>=0.2.2->langgraph) (0.28.1)\n",
      "Requirement already satisfied: orjson>=3.10.1 in d:\\mohini\\projects\\langraph\\env\\lib\\site-packages (from langgraph-sdk<0.3.0,>=0.2.2->langgraph) (3.11.3)\n",
      "Requirement already satisfied: requests-toolbelt>=1.0.0 in d:\\mohini\\projects\\langraph\\env\\lib\\site-packages (from langsmith>=0.1.17->langchain) (1.0.0)\n",
      "Requirement already satisfied: zstandard>=0.23.0 in d:\\mohini\\projects\\langraph\\env\\lib\\site-packages (from langsmith>=0.1.17->langchain) (0.24.0)\n",
      "Requirement already satisfied: wcwidth in d:\\mohini\\projects\\langraph\\env\\lib\\site-packages (from prompt_toolkit<3.1.0,>=3.0.41->ipython) (0.2.13)\n",
      "Requirement already satisfied: annotated-types>=0.6.0 in d:\\mohini\\projects\\langraph\\env\\lib\\site-packages (from pydantic>=2.7.4->langgraph) (0.7.0)\n",
      "Requirement already satisfied: pydantic-core==2.33.2 in d:\\mohini\\projects\\langraph\\env\\lib\\site-packages (from pydantic>=2.7.4->langgraph) (2.33.2)\n",
      "Requirement already satisfied: typing-inspection>=0.4.0 in d:\\mohini\\projects\\langraph\\env\\lib\\site-packages (from pydantic>=2.7.4->langgraph) (0.4.1)\n",
      "Requirement already satisfied: python-dotenv>=0.21.0 in d:\\mohini\\projects\\langraph\\env\\lib\\site-packages (from pydantic-settings<3.0.0,>=2.10.1->langchain-community) (1.1.1)\n",
      "Requirement already satisfied: charset_normalizer<4,>=2 in d:\\mohini\\projects\\langraph\\env\\lib\\site-packages (from requests<3,>=2->langchain) (3.4.3)\n",
      "Requirement already satisfied: idna<4,>=2.5 in d:\\mohini\\projects\\langraph\\env\\lib\\site-packages (from requests<3,>=2->langchain) (3.10)\n",
      "Requirement already satisfied: urllib3<3,>=1.21.1 in d:\\mohini\\projects\\langraph\\env\\lib\\site-packages (from requests<3,>=2->langchain) (2.5.0)\n",
      "Requirement already satisfied: certifi>=2017.4.17 in d:\\mohini\\projects\\langraph\\env\\lib\\site-packages (from requests<3,>=2->langchain) (2025.8.3)\n",
      "Requirement already satisfied: greenlet>=1 in d:\\mohini\\projects\\langraph\\env\\lib\\site-packages (from SQLAlchemy<3,>=1.4->langchain) (3.2.4)\n",
      "Requirement already satisfied: comm>=0.1.1 in d:\\mohini\\projects\\langraph\\env\\lib\\site-packages (from ipykernel->jupyter) (0.2.3)\n",
      "Requirement already satisfied: debugpy>=1.6.5 in d:\\mohini\\projects\\langraph\\env\\lib\\site-packages (from ipykernel->jupyter) (1.8.16)\n",
      "Requirement already satisfied: jupyter-client>=8.0.0 in d:\\mohini\\projects\\langraph\\env\\lib\\site-packages (from ipykernel->jupyter) (8.6.3)\n",
      "Requirement already satisfied: jupyter-core!=5.0.*,>=4.12 in d:\\mohini\\projects\\langraph\\env\\lib\\site-packages (from ipykernel->jupyter) (5.8.1)\n",
      "Requirement already satisfied: nest-asyncio>=1.4 in d:\\mohini\\projects\\langraph\\env\\lib\\site-packages (from ipykernel->jupyter) (1.6.0)\n",
      "Requirement already satisfied: psutil>=5.7 in d:\\mohini\\projects\\langraph\\env\\lib\\site-packages (from ipykernel->jupyter) (7.0.0)\n",
      "Requirement already satisfied: pyzmq>=25 in d:\\mohini\\projects\\langraph\\env\\lib\\site-packages (from ipykernel->jupyter) (27.0.2)\n",
      "Requirement already satisfied: tornado>=6.2 in d:\\mohini\\projects\\langraph\\env\\lib\\site-packages (from ipykernel->jupyter) (6.5.2)\n",
      "Requirement already satisfied: widgetsnbextension~=4.0.14 in d:\\mohini\\projects\\langraph\\env\\lib\\site-packages (from ipywidgets->jupyter) (4.0.14)\n",
      "Requirement already satisfied: jupyterlab_widgets~=3.0.15 in d:\\mohini\\projects\\langraph\\env\\lib\\site-packages (from ipywidgets->jupyter) (3.0.15)\n",
      "Requirement already satisfied: async-lru>=1.0.0 in d:\\mohini\\projects\\langraph\\env\\lib\\site-packages (from jupyterlab->jupyter) (2.0.5)\n",
      "Requirement already satisfied: jinja2>=3.0.3 in d:\\mohini\\projects\\langraph\\env\\lib\\site-packages (from jupyterlab->jupyter) (3.1.6)\n",
      "Requirement already satisfied: jupyter-lsp>=2.0.0 in d:\\mohini\\projects\\langraph\\env\\lib\\site-packages (from jupyterlab->jupyter) (2.3.0)\n",
      "Requirement already satisfied: jupyter-server<3,>=2.4.0 in d:\\mohini\\projects\\langraph\\env\\lib\\site-packages (from jupyterlab->jupyter) (2.17.0)\n",
      "Requirement already satisfied: jupyterlab-server<3,>=2.27.1 in d:\\mohini\\projects\\langraph\\env\\lib\\site-packages (from jupyterlab->jupyter) (2.27.3)\n",
      "Requirement already satisfied: notebook-shim>=0.2 in d:\\mohini\\projects\\langraph\\env\\lib\\site-packages (from jupyterlab->jupyter) (0.2.4)\n",
      "Requirement already satisfied: setuptools>=41.1.0 in d:\\mohini\\projects\\langraph\\env\\lib\\site-packages (from jupyterlab->jupyter) (80.9.0)\n",
      "Requirement already satisfied: beautifulsoup4 in d:\\mohini\\projects\\langraph\\env\\lib\\site-packages (from nbconvert->jupyter) (4.13.5)\n",
      "Requirement already satisfied: bleach!=5.0.0 in d:\\mohini\\projects\\langraph\\env\\lib\\site-packages (from bleach[css]!=5.0.0->nbconvert->jupyter) (6.2.0)\n",
      "Requirement already satisfied: defusedxml in d:\\mohini\\projects\\langraph\\env\\lib\\site-packages (from nbconvert->jupyter) (0.7.1)\n",
      "Requirement already satisfied: jupyterlab-pygments in d:\\mohini\\projects\\langraph\\env\\lib\\site-packages (from nbconvert->jupyter) (0.3.0)\n",
      "Requirement already satisfied: markupsafe>=2.0 in d:\\mohini\\projects\\langraph\\env\\lib\\site-packages (from nbconvert->jupyter) (3.0.2)\n",
      "Requirement already satisfied: mistune<4,>=2.0.3 in d:\\mohini\\projects\\langraph\\env\\lib\\site-packages (from nbconvert->jupyter) (3.1.4)\n",
      "Requirement already satisfied: nbclient>=0.5.0 in d:\\mohini\\projects\\langraph\\env\\lib\\site-packages (from nbconvert->jupyter) (0.10.2)\n",
      "Requirement already satisfied: nbformat>=5.7 in d:\\mohini\\projects\\langraph\\env\\lib\\site-packages (from nbconvert->jupyter) (5.10.4)\n",
      "Requirement already satisfied: pandocfilters>=1.4.1 in d:\\mohini\\projects\\langraph\\env\\lib\\site-packages (from nbconvert->jupyter) (1.5.1)\n",
      "Requirement already satisfied: executing>=1.2.0 in d:\\mohini\\projects\\langraph\\env\\lib\\site-packages (from stack_data->ipython) (2.2.1)\n",
      "Requirement already satisfied: asttokens>=2.1.0 in d:\\mohini\\projects\\langraph\\env\\lib\\site-packages (from stack_data->ipython) (3.0.0)\n",
      "Requirement already satisfied: pure-eval in d:\\mohini\\projects\\langraph\\env\\lib\\site-packages (from stack_data->ipython) (0.2.3)\n",
      "Requirement already satisfied: webencodings in d:\\mohini\\projects\\langraph\\env\\lib\\site-packages (from bleach!=5.0.0->bleach[css]!=5.0.0->nbconvert->jupyter) (0.5.1)\n",
      "Requirement already satisfied: tinycss2<1.5,>=1.1.0 in d:\\mohini\\projects\\langraph\\env\\lib\\site-packages (from bleach[css]!=5.0.0->nbconvert->jupyter) (1.4.0)\n",
      "Requirement already satisfied: anyio in d:\\mohini\\projects\\langraph\\env\\lib\\site-packages (from httpx>=0.25.2->langgraph-sdk<0.3.0,>=0.2.2->langgraph) (4.10.0)\n",
      "Requirement already satisfied: httpcore==1.* in d:\\mohini\\projects\\langraph\\env\\lib\\site-packages (from httpx>=0.25.2->langgraph-sdk<0.3.0,>=0.2.2->langgraph) (1.0.9)\n",
      "Requirement already satisfied: h11>=0.16 in d:\\mohini\\projects\\langraph\\env\\lib\\site-packages (from httpcore==1.*->httpx>=0.25.2->langgraph-sdk<0.3.0,>=0.2.2->langgraph) (0.16.0)\n",
      "Requirement already satisfied: python-dateutil>=2.8.2 in d:\\mohini\\projects\\langraph\\env\\lib\\site-packages (from jupyter-client>=8.0.0->ipykernel->jupyter) (2.9.0.post0)\n",
      "Requirement already satisfied: platformdirs>=2.5 in d:\\mohini\\projects\\langraph\\env\\lib\\site-packages (from jupyter-core!=5.0.*,>=4.12->ipykernel->jupyter) (4.4.0)\n",
      "Requirement already satisfied: pywin32>=300 in d:\\mohini\\projects\\langraph\\env\\lib\\site-packages (from jupyter-core!=5.0.*,>=4.12->ipykernel->jupyter) (311)\n",
      "Requirement already satisfied: argon2-cffi>=21.1 in d:\\mohini\\projects\\langraph\\env\\lib\\site-packages (from jupyter-server<3,>=2.4.0->jupyterlab->jupyter) (25.1.0)\n",
      "Requirement already satisfied: jupyter-events>=0.11.0 in d:\\mohini\\projects\\langraph\\env\\lib\\site-packages (from jupyter-server<3,>=2.4.0->jupyterlab->jupyter) (0.12.0)\n",
      "Requirement already satisfied: jupyter-server-terminals>=0.4.4 in d:\\mohini\\projects\\langraph\\env\\lib\\site-packages (from jupyter-server<3,>=2.4.0->jupyterlab->jupyter) (0.5.3)\n",
      "Requirement already satisfied: prometheus-client>=0.9 in d:\\mohini\\projects\\langraph\\env\\lib\\site-packages (from jupyter-server<3,>=2.4.0->jupyterlab->jupyter) (0.22.1)\n",
      "Requirement already satisfied: pywinpty>=2.0.1 in d:\\mohini\\projects\\langraph\\env\\lib\\site-packages (from jupyter-server<3,>=2.4.0->jupyterlab->jupyter) (3.0.0)\n",
      "Requirement already satisfied: send2trash>=1.8.2 in d:\\mohini\\projects\\langraph\\env\\lib\\site-packages (from jupyter-server<3,>=2.4.0->jupyterlab->jupyter) (1.8.3)\n",
      "Requirement already satisfied: terminado>=0.8.3 in d:\\mohini\\projects\\langraph\\env\\lib\\site-packages (from jupyter-server<3,>=2.4.0->jupyterlab->jupyter) (0.18.1)\n",
      "Requirement already satisfied: websocket-client>=1.7 in d:\\mohini\\projects\\langraph\\env\\lib\\site-packages (from jupyter-server<3,>=2.4.0->jupyterlab->jupyter) (1.8.0)\n",
      "Requirement already satisfied: babel>=2.10 in d:\\mohini\\projects\\langraph\\env\\lib\\site-packages (from jupyterlab-server<3,>=2.27.1->jupyterlab->jupyter) (2.17.0)\n",
      "Requirement already satisfied: json5>=0.9.0 in d:\\mohini\\projects\\langraph\\env\\lib\\site-packages (from jupyterlab-server<3,>=2.27.1->jupyterlab->jupyter) (0.12.1)\n",
      "Requirement already satisfied: jsonschema>=4.18.0 in d:\\mohini\\projects\\langraph\\env\\lib\\site-packages (from jupyterlab-server<3,>=2.27.1->jupyterlab->jupyter) (4.25.1)\n",
      "Requirement already satisfied: fastjsonschema>=2.15 in d:\\mohini\\projects\\langraph\\env\\lib\\site-packages (from nbformat>=5.7->nbconvert->jupyter) (2.21.2)\n",
      "Requirement already satisfied: mypy-extensions>=0.3.0 in d:\\mohini\\projects\\langraph\\env\\lib\\site-packages (from typing-inspect<1,>=0.4.0->dataclasses-json<0.7,>=0.6.7->langchain-community) (1.1.0)\n",
      "Requirement already satisfied: soupsieve>1.2 in d:\\mohini\\projects\\langraph\\env\\lib\\site-packages (from beautifulsoup4->nbconvert->jupyter) (2.8)\n",
      "Requirement already satisfied: sniffio>=1.1 in d:\\mohini\\projects\\langraph\\env\\lib\\site-packages (from anyio->httpx>=0.25.2->langgraph-sdk<0.3.0,>=0.2.2->langgraph) (1.3.1)\n",
      "Requirement already satisfied: argon2-cffi-bindings in d:\\mohini\\projects\\langraph\\env\\lib\\site-packages (from argon2-cffi>=21.1->jupyter-server<3,>=2.4.0->jupyterlab->jupyter) (25.1.0)\n",
      "Requirement already satisfied: jsonschema-specifications>=2023.03.6 in d:\\mohini\\projects\\langraph\\env\\lib\\site-packages (from jsonschema>=4.18.0->jupyterlab-server<3,>=2.27.1->jupyterlab->jupyter) (2025.4.1)\n",
      "Requirement already satisfied: referencing>=0.28.4 in d:\\mohini\\projects\\langraph\\env\\lib\\site-packages (from jsonschema>=4.18.0->jupyterlab-server<3,>=2.27.1->jupyterlab->jupyter) (0.36.2)\n",
      "Requirement already satisfied: rpds-py>=0.7.1 in d:\\mohini\\projects\\langraph\\env\\lib\\site-packages (from jsonschema>=4.18.0->jupyterlab-server<3,>=2.27.1->jupyterlab->jupyter) (0.27.1)\n",
      "Requirement already satisfied: python-json-logger>=2.0.4 in d:\\mohini\\projects\\langraph\\env\\lib\\site-packages (from jupyter-events>=0.11.0->jupyter-server<3,>=2.4.0->jupyterlab->jupyter) (3.3.0)\n",
      "Requirement already satisfied: rfc3339-validator in d:\\mohini\\projects\\langraph\\env\\lib\\site-packages (from jupyter-events>=0.11.0->jupyter-server<3,>=2.4.0->jupyterlab->jupyter) (0.1.4)\n",
      "Requirement already satisfied: rfc3986-validator>=0.1.1 in d:\\mohini\\projects\\langraph\\env\\lib\\site-packages (from jupyter-events>=0.11.0->jupyter-server<3,>=2.4.0->jupyterlab->jupyter) (0.1.1)\n",
      "Requirement already satisfied: six>=1.5 in d:\\mohini\\projects\\langraph\\env\\lib\\site-packages (from python-dateutil>=2.8.2->jupyter-client>=8.0.0->ipykernel->jupyter) (1.17.0)\n",
      "Requirement already satisfied: fqdn in d:\\mohini\\projects\\langraph\\env\\lib\\site-packages (from jsonschema[format-nongpl]>=4.18.0->jupyter-events>=0.11.0->jupyter-server<3,>=2.4.0->jupyterlab->jupyter) (1.5.1)\n",
      "Requirement already satisfied: isoduration in d:\\mohini\\projects\\langraph\\env\\lib\\site-packages (from jsonschema[format-nongpl]>=4.18.0->jupyter-events>=0.11.0->jupyter-server<3,>=2.4.0->jupyterlab->jupyter) (20.11.0)\n",
      "Requirement already satisfied: rfc3987-syntax>=1.1.0 in d:\\mohini\\projects\\langraph\\env\\lib\\site-packages (from jsonschema[format-nongpl]>=4.18.0->jupyter-events>=0.11.0->jupyter-server<3,>=2.4.0->jupyterlab->jupyter) (1.1.0)\n",
      "Requirement already satisfied: uri-template in d:\\mohini\\projects\\langraph\\env\\lib\\site-packages (from jsonschema[format-nongpl]>=4.18.0->jupyter-events>=0.11.0->jupyter-server<3,>=2.4.0->jupyterlab->jupyter) (1.3.0)\n",
      "Requirement already satisfied: webcolors>=24.6.0 in d:\\mohini\\projects\\langraph\\env\\lib\\site-packages (from jsonschema[format-nongpl]>=4.18.0->jupyter-events>=0.11.0->jupyter-server<3,>=2.4.0->jupyterlab->jupyter) (24.11.1)\n",
      "Requirement already satisfied: cffi>=1.0.1 in d:\\mohini\\projects\\langraph\\env\\lib\\site-packages (from argon2-cffi-bindings->argon2-cffi>=21.1->jupyter-server<3,>=2.4.0->jupyterlab->jupyter) (1.17.1)\n",
      "Requirement already satisfied: pycparser in d:\\mohini\\projects\\langraph\\env\\lib\\site-packages (from cffi>=1.0.1->argon2-cffi-bindings->argon2-cffi>=21.1->jupyter-server<3,>=2.4.0->jupyterlab->jupyter) (2.22)\n",
      "Requirement already satisfied: lark>=1.2.2 in d:\\mohini\\projects\\langraph\\env\\lib\\site-packages (from rfc3987-syntax>=1.1.0->jsonschema[format-nongpl]>=4.18.0->jupyter-events>=0.11.0->jupyter-server<3,>=2.4.0->jupyterlab->jupyter) (1.2.2)\n",
      "Requirement already satisfied: arrow>=0.15.0 in d:\\mohini\\projects\\langraph\\env\\lib\\site-packages (from isoduration->jsonschema[format-nongpl]>=4.18.0->jupyter-events>=0.11.0->jupyter-server<3,>=2.4.0->jupyterlab->jupyter) (1.3.0)\n",
      "Requirement already satisfied: types-python-dateutil>=2.8.10 in d:\\mohini\\projects\\langraph\\env\\lib\\site-packages (from arrow>=0.15.0->isoduration->jsonschema[format-nongpl]>=4.18.0->jupyter-events>=0.11.0->jupyter-server<3,>=2.4.0->jupyterlab->jupyter) (2.9.0.20250822)\n",
      "Note: you may need to restart the kernel to use updated packages.\n"
     ]
    },
    {
     "name": "stderr",
     "output_type": "stream",
     "text": [
      "\n",
      "[notice] A new release of pip is available: 24.2 -> 25.2\n",
      "[notice] To update, run: python.exe -m pip install --upgrade pip\n"
     ]
    }
   ],
   "source": [
    "pip install langgraph langchain langchain-core langchain-community duckduckgo-search ipython jupyter typing-extensions"
   ]
  },
  {
   "cell_type": "code",
   "execution_count": 133,
   "id": "60899bbd",
   "metadata": {},
   "outputs": [
    {
     "name": "stdout",
     "output_type": "stream",
     "text": [
      "Requirement already satisfied: langchain_groq in d:\\mohini\\projects\\langraph\\env\\lib\\site-packages (0.3.7)\n",
      "Requirement already satisfied: dotenv in d:\\mohini\\projects\\langraph\\env\\lib\\site-packages (0.9.9)\n",
      "Requirement already satisfied: langchain-core<1.0.0,>=0.3.72 in d:\\mohini\\projects\\langraph\\env\\lib\\site-packages (from langchain_groq) (0.3.75)\n",
      "Requirement already satisfied: groq<1,>=0.30.0 in d:\\mohini\\projects\\langraph\\env\\lib\\site-packages (from langchain_groq) (0.31.1)\n",
      "Requirement already satisfied: python-dotenv in d:\\mohini\\projects\\langraph\\env\\lib\\site-packages (from dotenv) (1.1.1)\n",
      "Requirement already satisfied: anyio<5,>=3.5.0 in d:\\mohini\\projects\\langraph\\env\\lib\\site-packages (from groq<1,>=0.30.0->langchain_groq) (4.10.0)\n",
      "Requirement already satisfied: distro<2,>=1.7.0 in d:\\mohini\\projects\\langraph\\env\\lib\\site-packages (from groq<1,>=0.30.0->langchain_groq) (1.9.0)\n",
      "Requirement already satisfied: httpx<1,>=0.23.0 in d:\\mohini\\projects\\langraph\\env\\lib\\site-packages (from groq<1,>=0.30.0->langchain_groq) (0.28.1)\n",
      "Requirement already satisfied: pydantic<3,>=1.9.0 in d:\\mohini\\projects\\langraph\\env\\lib\\site-packages (from groq<1,>=0.30.0->langchain_groq) (2.11.7)\n",
      "Requirement already satisfied: sniffio in d:\\mohini\\projects\\langraph\\env\\lib\\site-packages (from groq<1,>=0.30.0->langchain_groq) (1.3.1)\n",
      "Requirement already satisfied: typing-extensions<5,>=4.10 in d:\\mohini\\projects\\langraph\\env\\lib\\site-packages (from groq<1,>=0.30.0->langchain_groq) (4.15.0)\n",
      "Requirement already satisfied: langsmith>=0.3.45 in d:\\mohini\\projects\\langraph\\env\\lib\\site-packages (from langchain-core<1.0.0,>=0.3.72->langchain_groq) (0.4.25)\n",
      "Requirement already satisfied: tenacity!=8.4.0,<10.0.0,>=8.1.0 in d:\\mohini\\projects\\langraph\\env\\lib\\site-packages (from langchain-core<1.0.0,>=0.3.72->langchain_groq) (9.1.2)\n",
      "Requirement already satisfied: jsonpatch<2.0,>=1.33 in d:\\mohini\\projects\\langraph\\env\\lib\\site-packages (from langchain-core<1.0.0,>=0.3.72->langchain_groq) (1.33)\n",
      "Requirement already satisfied: PyYAML>=5.3 in d:\\mohini\\projects\\langraph\\env\\lib\\site-packages (from langchain-core<1.0.0,>=0.3.72->langchain_groq) (6.0.2)\n",
      "Requirement already satisfied: packaging>=23.2 in d:\\mohini\\projects\\langraph\\env\\lib\\site-packages (from langchain-core<1.0.0,>=0.3.72->langchain_groq) (25.0)\n",
      "Requirement already satisfied: idna>=2.8 in d:\\mohini\\projects\\langraph\\env\\lib\\site-packages (from anyio<5,>=3.5.0->groq<1,>=0.30.0->langchain_groq) (3.10)\n",
      "Requirement already satisfied: certifi in d:\\mohini\\projects\\langraph\\env\\lib\\site-packages (from httpx<1,>=0.23.0->groq<1,>=0.30.0->langchain_groq) (2025.8.3)\n",
      "Requirement already satisfied: httpcore==1.* in d:\\mohini\\projects\\langraph\\env\\lib\\site-packages (from httpx<1,>=0.23.0->groq<1,>=0.30.0->langchain_groq) (1.0.9)\n",
      "Requirement already satisfied: h11>=0.16 in d:\\mohini\\projects\\langraph\\env\\lib\\site-packages (from httpcore==1.*->httpx<1,>=0.23.0->groq<1,>=0.30.0->langchain_groq) (0.16.0)\n",
      "Requirement already satisfied: jsonpointer>=1.9 in d:\\mohini\\projects\\langraph\\env\\lib\\site-packages (from jsonpatch<2.0,>=1.33->langchain-core<1.0.0,>=0.3.72->langchain_groq) (3.0.0)\n",
      "Requirement already satisfied: orjson>=3.9.14 in d:\\mohini\\projects\\langraph\\env\\lib\\site-packages (from langsmith>=0.3.45->langchain-core<1.0.0,>=0.3.72->langchain_groq) (3.11.3)\n",
      "Requirement already satisfied: requests-toolbelt>=1.0.0 in d:\\mohini\\projects\\langraph\\env\\lib\\site-packages (from langsmith>=0.3.45->langchain-core<1.0.0,>=0.3.72->langchain_groq) (1.0.0)\n",
      "Requirement already satisfied: requests>=2.0.0 in d:\\mohini\\projects\\langraph\\env\\lib\\site-packages (from langsmith>=0.3.45->langchain-core<1.0.0,>=0.3.72->langchain_groq) (2.32.5)\n",
      "Requirement already satisfied: zstandard>=0.23.0 in d:\\mohini\\projects\\langraph\\env\\lib\\site-packages (from langsmith>=0.3.45->langchain-core<1.0.0,>=0.3.72->langchain_groq) (0.24.0)\n",
      "Requirement already satisfied: annotated-types>=0.6.0 in d:\\mohini\\projects\\langraph\\env\\lib\\site-packages (from pydantic<3,>=1.9.0->groq<1,>=0.30.0->langchain_groq) (0.7.0)\n",
      "Requirement already satisfied: pydantic-core==2.33.2 in d:\\mohini\\projects\\langraph\\env\\lib\\site-packages (from pydantic<3,>=1.9.0->groq<1,>=0.30.0->langchain_groq) (2.33.2)\n",
      "Requirement already satisfied: typing-inspection>=0.4.0 in d:\\mohini\\projects\\langraph\\env\\lib\\site-packages (from pydantic<3,>=1.9.0->groq<1,>=0.30.0->langchain_groq) (0.4.1)\n",
      "Requirement already satisfied: charset_normalizer<4,>=2 in d:\\mohini\\projects\\langraph\\env\\lib\\site-packages (from requests>=2.0.0->langsmith>=0.3.45->langchain-core<1.0.0,>=0.3.72->langchain_groq) (3.4.3)\n",
      "Requirement already satisfied: urllib3<3,>=1.21.1 in d:\\mohini\\projects\\langraph\\env\\lib\\site-packages (from requests>=2.0.0->langsmith>=0.3.45->langchain-core<1.0.0,>=0.3.72->langchain_groq) (2.5.0)\n",
      "Note: you may need to restart the kernel to use updated packages.\n"
     ]
    },
    {
     "name": "stderr",
     "output_type": "stream",
     "text": [
      "\n",
      "[notice] A new release of pip is available: 24.2 -> 25.2\n",
      "[notice] To update, run: python.exe -m pip install --upgrade pip\n"
     ]
    }
   ],
   "source": [
    "pip install langchain_groq dotenv"
   ]
  },
  {
   "cell_type": "code",
   "execution_count": 134,
   "id": "f3541666",
   "metadata": {},
   "outputs": [],
   "source": [
    "from langgraph.graph import MessagesState,StateGraph,END,START\n",
    "from langchain_core.messages import HumanMessage,SystemMessage\n",
    "from langchain_community.tools import DuckDuckGoSearchRun\n",
    "from langgraph.prebuilt import tools_condition\n",
    "from  IPython.display import Image, display\n",
    "from typing import Annotated,TypedDict\n",
    "import operator\n",
    "from langchain_core.messages import AnyMessage\n",
    "from langgraph.graph.message import add_messages\n",
    "from langgraph.prebuilt import tools_condition\n",
    "from langgraph.prebuilt import ToolNode"
   ]
  },
  {
   "cell_type": "code",
   "execution_count": 135,
   "id": "c588db59",
   "metadata": {},
   "outputs": [],
   "source": [
    "from langchain_groq import ChatGroq\n",
    "import dotenv\n",
    "dotenv.load_dotenv()\n",
    "llm = ChatGroq(model=\"llama-3.1-8b-instant\", temperature=0.0)"
   ]
  },
  {
   "cell_type": "code",
   "execution_count": 136,
   "id": "8dd34725",
   "metadata": {},
   "outputs": [],
   "source": [
    "\n",
    "from langchain.agents import tool\n",
    "@tool\n",
    "def multiply(a:int, b:int) ->int:\n",
    "    \"\"\"this tool Mutiplies the numbers\n",
    "    Args:\n",
    "    a:int\n",
    "    b:int\n",
    "    \"\"\"\n",
    "    return a*b"
   ]
  },
  {
   "cell_type": "code",
   "execution_count": 137,
   "id": "53d2d192",
   "metadata": {},
   "outputs": [],
   "source": [
    "@tool\n",
    "def add(a:int, b:int) ->int:\n",
    "    \"\"\"this tool adds the numbers\n",
    "    Args:\n",
    "    a:int\n",
    "    b:int\n",
    "    \"\"\"\n",
    "    return a+b"
   ]
  },
  {
   "cell_type": "code",
   "execution_count": 138,
   "id": "6b35721f",
   "metadata": {},
   "outputs": [],
   "source": [
    "from langchain_community.tools import DuckDuckGoSearchRun\n",
    "search=DuckDuckGoSearchRun()"
   ]
  },
  {
   "cell_type": "code",
   "execution_count": 139,
   "id": "7aeb3625",
   "metadata": {},
   "outputs": [
    {
     "data": {
      "text/plain": [
       "'27 May 2025 — Capital, New Delhi · 28°36′50″N 77°12′30″E / 28.61389°N 77.20833°E ... Socio-economic challenges. Main articles: Poverty in India, Income inequality in India, ... As the capital of India , Delhi is the focus of political reportage, including regular television broadcasts of Parliament sessions. Many national media agencies, including the state-owned Press Trust of India , Media Trust of India and Doordarshan, are based in the city. 12 Nov 2024 — If you are asked what the capital of India is, your answer will be New Delhi , which was settled by the British. Thus, in 1911, New Delhi became the capital of India , south of the Old City of Delhi. And then over the years, Delhi expanded, and satellite cities sprang up- ... 9 Jan 2025 — New Delhi was finally inaugurated as the capital on 13 February 1931, by the then Viceroy of India, Lord Irwin. The new capital was built along wide boulevards ...'"
      ]
     },
     "execution_count": 139,
     "metadata": {},
     "output_type": "execute_result"
    }
   ],
   "source": [
    "search.invoke({\"query\":\"what is the capital of India\"})"
   ]
  },
  {
   "cell_type": "code",
   "execution_count": 140,
   "id": "89d7f8da",
   "metadata": {},
   "outputs": [],
   "source": [
    "import yfinance as yf\n",
    "@tool\n",
    "def get_stock_price(ticker: str) -> float:\n",
    "    \"\"\"Get the current stock price of a company.\"\"\"\n",
    "    stock = yf.Ticker(ticker)\n",
    "    return stock.info[\"currentPrice\"]"
   ]
  },
  {
   "cell_type": "code",
   "execution_count": 141,
   "id": "f7fb7025",
   "metadata": {},
   "outputs": [],
   "source": [
    "tools = [multiply,add,search,get_stock_price]\n",
    "llm_with_tools=llm.bind_tools(tools)"
   ]
  },
  {
   "cell_type": "code",
   "execution_count": 142,
   "id": "bf2d6412",
   "metadata": {},
   "outputs": [],
   "source": [
    "system_message = SystemMessage(\n",
    "    content=\"You are a helpful assistant tasked with using search and performing arithmetic on a set of inputs.\"\n",
    ")"
   ]
  },
  {
   "cell_type": "code",
   "execution_count": 143,
   "id": "b33116c5",
   "metadata": {},
   "outputs": [],
   "source": [
    "def reasoner(state:MessagesState):\n",
    "    return {\"messages\":[llm_with_tools.invoke([system_message]+state[\"messages\"])]}\n"
   ]
  },
  {
   "cell_type": "code",
   "execution_count": 144,
   "id": "e8fd3640",
   "metadata": {},
   "outputs": [],
   "source": [
    "app=StateGraph(MessagesState)\n",
    "app.add_node(\"reasoner\",reasoner)\n",
    "app.add_node(\"tools\",ToolNode(tools))\n",
    "app.add_edge(START,\"reasoner\")\n",
    "app.add_conditional_edges(\"reasoner\",tools_condition)\n",
    "app.add_edge(\"tools\",\"reasoner\")\n",
    "react_graph=app.compile() "
   ]
  },
  {
   "cell_type": "code",
   "execution_count": 145,
   "id": "f8957083",
   "metadata": {},
   "outputs": [],
   "source": [
    "messages=[HumanMessage(content=\"what is donald trumps age 2 times?\")]"
   ]
  },
  {
   "cell_type": "code",
   "execution_count": 146,
   "id": "26871bd1",
   "metadata": {},
   "outputs": [],
   "source": [
    "messages=react_graph.invoke({\"messages\":messages})"
   ]
  },
  {
   "cell_type": "code",
   "execution_count": 147,
   "id": "a82234fc",
   "metadata": {},
   "outputs": [
    {
     "name": "stdout",
     "output_type": "stream",
     "text": [
      "================================\u001b[1m Human Message \u001b[0m=================================\n",
      "\n",
      "what is donald trumps age 2 times?\n",
      "==================================\u001b[1m Ai Message \u001b[0m==================================\n",
      "Tool Calls:\n",
      "  duckduckgo_search (1a5va1tfm)\n",
      " Call ID: 1a5va1tfm\n",
      "  Args:\n",
      "    query: donald trump age\n",
      "  add (n32nzbq09)\n",
      " Call ID: n32nzbq09\n",
      "  Args:\n",
      "    a: 76\n",
      "    b: 2\n",
      "=================================\u001b[1m Tool Message \u001b[0m=================================\n",
      "Name: duckduckgo_search\n",
      "\n",
      "7 hours ago - Donald John Trump ( born June 14, 1946 ) is an American politician, media personality, and businessman who is the 47th president of the United States. A member of the Republican Party, he served as the 45th president from 2017 to 2021. Born into a wealthy family in New York City, Trump graduated ... 11 hours ago - At 79 years old , Donald Trump, the 47th and previously 45th president of the United States, is the oldest person in American history to be inaugurated as president for the second time. He became the oldest presidential nominee of a major party in July 2024, five weeks after his 78th birthday. May 12, 2025 - Donald John Trump was born on June 14, 1946 , the fourth of five children of Mary Anne MacLeod Trump and her husband, Frederick Christ Trump, Sr. Trump’s mother was born in Scotland and emigrated to the United States in 1930. His father was born in New York City, the son of German immigrants. October 25, 2024 - Americans are about as likely as not to say Donald Trump, age 78, is too old to be president, and concerns about the former president's fitness for office have been growing. However, they remain significantly lower than similar concerns about President Joe Biden, 81, before he withdrew from ... January 20, 2025 - At 78 years and seven months , Donald Trump will become the oldest president in US history on inauguration day.\n",
      "=================================\u001b[1m Tool Message \u001b[0m=================================\n",
      "Name: add\n",
      "\n",
      "78\n",
      "==================================\u001b[1m Ai Message \u001b[0m==================================\n",
      "\n",
      "Based on the search results, Donald Trump's age is 79.\n",
      "Tool Calls:\n",
      "  multiply (yhhnq057f)\n",
      " Call ID: yhhnq057f\n",
      "  Args:\n",
      "    a: 79\n",
      "    b: 2\n",
      "=================================\u001b[1m Tool Message \u001b[0m=================================\n",
      "Name: multiply\n",
      "\n",
      "158\n",
      "==================================\u001b[1m Ai Message \u001b[0m==================================\n",
      "\n",
      "The final answer is 158.\n"
     ]
    }
   ],
   "source": [
    "for m in messages[\"messages\"]:\n",
    "    m.pretty_print()"
   ]
  },
  {
   "cell_type": "code",
   "execution_count": 148,
   "id": "f2928604",
   "metadata": {},
   "outputs": [
    {
     "data": {
      "text/plain": [
       "239.69"
      ]
     },
     "execution_count": 148,
     "metadata": {},
     "output_type": "execute_result"
    }
   ],
   "source": [
    "get_stock_price(\"AAPL\")"
   ]
  },
  {
   "cell_type": "code",
   "execution_count": 149,
   "id": "4daaddfc",
   "metadata": {},
   "outputs": [],
   "source": [
    "tools = [multiply,add,search,get_stock_price]\n",
    "llm_with_tools=llm.bind_tools(tools)"
   ]
  },
  {
   "cell_type": "code",
   "execution_count": 150,
   "id": "313bd539",
   "metadata": {},
   "outputs": [],
   "source": [
    "class GraphState(TypedDict):\n",
    "    \"\"\"State of the Graph\"\"\"\n",
    "    query: str\n",
    "    finance: str\n",
    "    final_answer: str\n",
    "    # intermediate_steps: Annotated[list[tuple[AgentAction, str]], operator.add]\n",
    "    messages: Annotated[list[AnyMessage], operator.add]\n",
    "\n",
    "\n",
    "def reasoner2(state:GraphState):\n",
    "    query = state[\"query\"]\n",
    "    messages = state[\"messages\"]\n",
    "    # System message\n",
    "    sys_msg = SystemMessage(content=\"You are a helpful assistant tasked with using search, the yahoo finance tool and performing arithmetic on a set of inputs.\")\n",
    "    message = HumanMessage(content=query)\n",
    "    messages.append(message)\n",
    "    result = [llm_with_tools.invoke([sys_msg] + messages)]\n",
    "    return {\"messages\":result}"
   ]
  },
  {
   "cell_type": "code",
   "execution_count": 151,
   "id": "e933aea0",
   "metadata": {},
   "outputs": [],
   "source": [
    "workflow=StateGraph(GraphState)\n",
    "\n",
    "workflow.add_node(\"reasoner2\",reasoner2)\n",
    "workflow.add_node(\"tools\",ToolNode(tools2))\n",
    "workflow.add_edge(START,\"reasoner2\")\n",
    "workflow.add_conditional_edges(\"reasoner2\",tools_condition)\n",
    "workflow.add_edge(\"tools\",\"reasoner2\")\n",
    "\n",
    "react_graph2=workflow.compile() \n"
   ]
  },
  {
   "cell_type": "code",
   "execution_count": 152,
   "id": "705668c7",
   "metadata": {},
   "outputs": [
    {
     "data": {
      "image/png": "[encoded data removed]",
      "text/plain": [
       "<IPython.core.display.Image object>"
      ]
     },
     "metadata": {},
     "output_type": "display_data"
    }
   ],
   "source": [
    "\n",
    "# Display the graph\n",
    "display(Image(react_graph2.get_graph(xray=True).draw_mermaid_png()))"
   ]
  },
  {
   "cell_type": "code",
   "execution_count": 153,
   "id": "3c96736c",
   "metadata": {},
   "outputs": [
    {
     "ename": "GraphRecursionError",
     "evalue": "Recursion limit of 25 reached without hitting a stop condition. You can increase the limit by setting the `recursion_limit` config key.\nFor troubleshooting, visit: https://python.langchain.com/docs/troubleshooting/errors/GRAPH_RECURSION_LIMIT",
     "output_type": "error",
     "traceback": [
      "\u001b[31m---------------------------------------------------------------------------\u001b[39m",
      "\u001b[31mGraphRecursionError\u001b[39m                       Traceback (most recent call last)",
      "\u001b[36mCell\u001b[39m\u001b[36m \u001b[39m\u001b[32mIn[153]\u001b[39m\u001b[32m, line 1\u001b[39m\n\u001b[32m----> \u001b[39m\u001b[32m1\u001b[39m res=\u001b[43mreact_graph2\u001b[49m\u001b[43m.\u001b[49m\u001b[43minvoke\u001b[49m\u001b[43m(\u001b[49m\u001b[43m{\u001b[49m\u001b[33;43m\"\u001b[39;49m\u001b[33;43mquery\u001b[39;49m\u001b[33;43m\"\u001b[39;49m\u001b[43m:\u001b[49m\u001b[33;43m\"\u001b[39;49m\u001b[33;43mwhats the stock price of apple?\u001b[39;49m\u001b[33;43m\"\u001b[39;49m\u001b[43m,\u001b[49m\u001b[33;43m\"\u001b[39;49m\u001b[33;43mmessages\u001b[39;49m\u001b[33;43m\"\u001b[39;49m\u001b[43m:\u001b[49m\u001b[43m[\u001b[49m\u001b[43m]\u001b[49m\u001b[43m}\u001b[49m\u001b[43m)\u001b[49m\n",
      "\u001b[36mFile \u001b[39m\u001b[32md:\\Mohini\\projects\\langraph\\env\\Lib\\site-packages\\langgraph\\pregel\\main.py:3026\u001b[39m, in \u001b[36mPregel.invoke\u001b[39m\u001b[34m(self, input, config, context, stream_mode, print_mode, output_keys, interrupt_before, interrupt_after, durability, **kwargs)\u001b[39m\n\u001b[32m   3023\u001b[39m chunks: \u001b[38;5;28mlist\u001b[39m[\u001b[38;5;28mdict\u001b[39m[\u001b[38;5;28mstr\u001b[39m, Any] | Any] = []\n\u001b[32m   3024\u001b[39m interrupts: \u001b[38;5;28mlist\u001b[39m[Interrupt] = []\n\u001b[32m-> \u001b[39m\u001b[32m3026\u001b[39m \u001b[43m\u001b[49m\u001b[38;5;28;43;01mfor\u001b[39;49;00m\u001b[43m \u001b[49m\u001b[43mchunk\u001b[49m\u001b[43m \u001b[49m\u001b[38;5;129;43;01min\u001b[39;49;00m\u001b[43m \u001b[49m\u001b[38;5;28;43mself\u001b[39;49m\u001b[43m.\u001b[49m\u001b[43mstream\u001b[49m\u001b[43m(\u001b[49m\n\u001b[32m   3027\u001b[39m \u001b[43m    \u001b[49m\u001b[38;5;28;43minput\u001b[39;49m\u001b[43m,\u001b[49m\n\u001b[32m   3028\u001b[39m \u001b[43m    \u001b[49m\u001b[43mconfig\u001b[49m\u001b[43m,\u001b[49m\n\u001b[32m   3029\u001b[39m \u001b[43m    \u001b[49m\u001b[43mcontext\u001b[49m\u001b[43m=\u001b[49m\u001b[43mcontext\u001b[49m\u001b[43m,\u001b[49m\n\u001b[32m   3030\u001b[39m \u001b[43m    \u001b[49m\u001b[43mstream_mode\u001b[49m\u001b[43m=\u001b[49m\u001b[43m[\u001b[49m\u001b[33;43m\"\u001b[39;49m\u001b[33;43mupdates\u001b[39;49m\u001b[33;43m\"\u001b[39;49m\u001b[43m,\u001b[49m\u001b[43m \u001b[49m\u001b[33;43m\"\u001b[39;49m\u001b[33;43mvalues\u001b[39;49m\u001b[33;43m\"\u001b[39;49m\u001b[43m]\u001b[49m\n\u001b[32m   3031\u001b[39m \u001b[43m    \u001b[49m\u001b[38;5;28;43;01mif\u001b[39;49;00m\u001b[43m \u001b[49m\u001b[43mstream_mode\u001b[49m\u001b[43m \u001b[49m\u001b[43m==\u001b[49m\u001b[43m \u001b[49m\u001b[33;43m\"\u001b[39;49m\u001b[33;43mvalues\u001b[39;49m\u001b[33;43m\"\u001b[39;49m\n\u001b[32m   3032\u001b[39m \u001b[43m    \u001b[49m\u001b[38;5;28;43;01melse\u001b[39;49;00m\u001b[43m \u001b[49m\u001b[43mstream_mode\u001b[49m\u001b[43m,\u001b[49m\n\u001b[32m   3033\u001b[39m \u001b[43m    \u001b[49m\u001b[43mprint_mode\u001b[49m\u001b[43m=\u001b[49m\u001b[43mprint_mode\u001b[49m\u001b[43m,\u001b[49m\n\u001b[32m   3034\u001b[39m \u001b[43m    \u001b[49m\u001b[43moutput_keys\u001b[49m\u001b[43m=\u001b[49m\u001b[43moutput_keys\u001b[49m\u001b[43m,\u001b[49m\n\u001b[32m   3035\u001b[39m \u001b[43m    \u001b[49m\u001b[43minterrupt_before\u001b[49m\u001b[43m=\u001b[49m\u001b[43minterrupt_before\u001b[49m\u001b[43m,\u001b[49m\n\u001b[32m   3036\u001b[39m \u001b[43m    \u001b[49m\u001b[43minterrupt_after\u001b[49m\u001b[43m=\u001b[49m\u001b[43minterrupt_after\u001b[49m\u001b[43m,\u001b[49m\n\u001b[32m   3037\u001b[39m \u001b[43m    \u001b[49m\u001b[43mdurability\u001b[49m\u001b[43m=\u001b[49m\u001b[43mdurability\u001b[49m\u001b[43m,\u001b[49m\n\u001b[32m   3038\u001b[39m \u001b[43m    \u001b[49m\u001b[43m*\u001b[49m\u001b[43m*\u001b[49m\u001b[43mkwargs\u001b[49m\u001b[43m,\u001b[49m\n\u001b[32m   3039\u001b[39m \u001b[43m\u001b[49m\u001b[43m)\u001b[49m\u001b[43m:\u001b[49m\n\u001b[32m   3040\u001b[39m \u001b[43m    \u001b[49m\u001b[38;5;28;43;01mif\u001b[39;49;00m\u001b[43m \u001b[49m\u001b[43mstream_mode\u001b[49m\u001b[43m \u001b[49m\u001b[43m==\u001b[49m\u001b[43m \u001b[49m\u001b[33;43m\"\u001b[39;49m\u001b[33;43mvalues\u001b[39;49m\u001b[33;43m\"\u001b[39;49m\u001b[43m:\u001b[49m\n\u001b[32m   3041\u001b[39m \u001b[43m        \u001b[49m\u001b[38;5;28;43;01mif\u001b[39;49;00m\u001b[43m \u001b[49m\u001b[38;5;28;43mlen\u001b[39;49m\u001b[43m(\u001b[49m\u001b[43mchunk\u001b[49m\u001b[43m)\u001b[49m\u001b[43m \u001b[49m\u001b[43m==\u001b[49m\u001b[43m \u001b[49m\u001b[32;43m2\u001b[39;49m\u001b[43m:\u001b[49m\n",
      "\u001b[36mFile \u001b[39m\u001b[32md:\\Mohini\\projects\\langraph\\env\\Lib\\site-packages\\langgraph\\pregel\\main.py:2675\u001b[39m, in \u001b[36mPregel.stream\u001b[39m\u001b[34m(self, input, config, context, stream_mode, print_mode, output_keys, interrupt_before, interrupt_after, durability, subgraphs, debug, **kwargs)\u001b[39m\n\u001b[32m   2666\u001b[39m \u001b[38;5;28;01mif\u001b[39;00m loop.status == \u001b[33m\"\u001b[39m\u001b[33mout_of_steps\u001b[39m\u001b[33m\"\u001b[39m:\n\u001b[32m   2667\u001b[39m     msg = create_error_message(\n\u001b[32m   2668\u001b[39m         message=(\n\u001b[32m   2669\u001b[39m             \u001b[33mf\u001b[39m\u001b[33m\"\u001b[39m\u001b[33mRecursion limit of \u001b[39m\u001b[38;5;132;01m{\u001b[39;00mconfig[\u001b[33m'\u001b[39m\u001b[33mrecursion_limit\u001b[39m\u001b[33m'\u001b[39m]\u001b[38;5;132;01m}\u001b[39;00m\u001b[33m reached \u001b[39m\u001b[33m\"\u001b[39m\n\u001b[32m   (...)\u001b[39m\u001b[32m   2673\u001b[39m         error_code=ErrorCode.GRAPH_RECURSION_LIMIT,\n\u001b[32m   2674\u001b[39m     )\n\u001b[32m-> \u001b[39m\u001b[32m2675\u001b[39m     \u001b[38;5;28;01mraise\u001b[39;00m GraphRecursionError(msg)\n\u001b[32m   2676\u001b[39m \u001b[38;5;66;03m# set final channel values as run output\u001b[39;00m\n\u001b[32m   2677\u001b[39m run_manager.on_chain_end(loop.output)\n",
      "\u001b[31mGraphRecursionError\u001b[39m: Recursion limit of 25 reached without hitting a stop condition. You can increase the limit by setting the `recursion_limit` config key.\nFor troubleshooting, visit: https://python.langchain.com/docs/troubleshooting/errors/GRAPH_RECURSION_LIMIT"
     ]
    }
   ],
   "source": [
    "res=react_graph2.invoke({\"query\":\"whats the stock price of apple?\",\"messages\":[]})"
   ]
  },
  {
   "cell_type": "code",
   "execution_count": null,
   "id": "57ec7ddd",
   "metadata": {},
   "outputs": [],
   "source": [
    "for m in messages[\"messages\"]:\n",
    "    m.pretty_print()"
   ]
  }
 ],
 "metadata": {
  "kernelspec": {
   "display_name": "env",
   "language": "python",
   "name": "python3"
  },
  "language_info": {
   "codemirror_mode": {
    "name": "ipython",
    "version": 3
   },
   "file_extension": ".py",
   "mimetype": "text/x-python",
   "name": "python",
   "nbconvert_exporter": "python",
   "pygments_lexer": "ipython3",
   "version": "3.12.6"
  }
 },
 "nbformat": 4,
 "nbformat_minor": 5
}
